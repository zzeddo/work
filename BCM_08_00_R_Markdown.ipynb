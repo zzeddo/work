{
 "cells": [
  {
   "cell_type": "markdown",
   "metadata": {},
   "source": [
    "## Install R Markdown Packages\n",
    "install.packages(\"rmarkdown\")"
   ]
  },
  {
   "cell_type": "markdown",
   "metadata": {},
   "source": [
    "##Basic mathematics \n",
    "A \\cup B\t:\t$$A \\cup B$$\n",
    "A \\cap B\t:\t$$A \\cap B$$\n",
    "x \\in A\t:\t$$x \\in A$$\n",
    "5 \\pm 2\t:\t$$5 \\pm 2$$\n",
    "\\log(x)\t:\t$$\\log(x)$$\n",
    "\\sin(x)\t:\t$$\\sin(x)$$\n",
    "\\sqrt{27}\t:\t$$\\sqrt{27}$$\n",
    "\\overline{x}\t:\t$$\\overline{x}$$\n",
    "\\bar{x}\t:\t$$\\bar{x}$$\n",
    "\\hat{x}\t:\t$$\\hat{x}$$\n",
    "\\frac{k}{n}\t:\t$$\\frac{k}{n}$$\n",
    "\\binom{k}{n}\t:\t$$\\binom{k}{n}$$\n",
    "\\frac{\\partial f}{\\partial x} :\t$$\\frac{\\partial f}{\\partial x}$$\n"
   ]
  },
  {
   "cell_type": "markdown",
   "metadata": {},
   "source": [
    "##Equtations\n",
    "x^2\t:\t$$x^2$$\n",
    "x_2\t:\t$$x_2$$\n",
    "\\lim_{x\\to\\infty}\t:\t$$\\lim_{x\\to\\infty}$$\n",
    "\\displaystyle \\lim_{x\\to\\infty}\t:\t$$\\displaystyle \\lim_{x\\to\\infty}$$\n",
    "\\int_0^{\\infty} f(x) \\; dx\t:\t$$\\int_0^{\\infty} f(x) \\; dx$$\n",
    "\\displaystyle \\int_0^{\\infty} f(x) \\; dx\t:\t$$\\displaystyle \\int_0^{\\infty} f(x) \\; dx$$\n",
    "\n",
    "\\pm : $$\\pm$$\n",
    "\\mp : $$\\mp$$\n",
    "\\times : $$\\times$$\n",
    "\\div : $$\\div$$\n",
    "\\ast : $$\\ast$$\n",
    "\\cap : $$\\cap$$\n",
    "\\cup : $$\\cup$$\n",
    "\\leq : $$\\leq$$\n",
    "\\geq : $$\\geq$$\n",
    "\\neq : $$\\neq$$"
   ]
  },
  {
   "cell_type": "markdown",
   "metadata": {},
   "source": [
    "## The Greek Alphabet\n",
    "\\alpha A\t:\t$$\\alpha A$$\n",
    "\\beta B\t:\t$$\\beta B$$\n",
    "\\gamma \\Gamma\t:\t$$\\gamma \\Gamma$$\n",
    "\\delta \\Delta\t:\t$$\\delta \\Delta$$\n",
    "\\epsilon E\t:\t$$\\epsilon E$$\n",
    "\\varepsilon\t:\t$$\\varepsilon$$\n",
    "\\zeta Z\t:\t$$\\zeta Z$$\n",
    "\\eta  :\t$$\\eta$$\n",
    "\\theta \\Theta\t:\t$$\\theta \\Theta$$\n",
    "\\iota I\t:\t$$\\iota I$$\n",
    "\\kappa K\t:\t$$\\kappa K$$\n",
    "\\lambda \\Lambda\t:\t$$\\lambda \\Lambda$$\n",
    "\\mu M\t:\t$$\\mu M$$\n",
    "\\nu N\t:\t$$\\nu N$$\n",
    "\\xi \\Xi\t:\t$$\\xi \\Xi$$\n",
    "\\omicron O\t:\t$$\\omicron O$$\n",
    "\\pi \\Pi\t:\t$$\\pi \\Pi$$\n",
    "\\rho P\t:\t$$\\rho P$$\n",
    "\\sigma \\Sigma\t:\t$$\\sigma \\Sigma$$\n",
    "\\tau \t:\t$$\\tau$\n",
    "\\upsilon Y\t:\t$$\\upsilon Y$$\n",
    "\\phi \\Phi\t:\t$$\\phi \\Phi$$\n",
    "\\varphi\t:\t$$\\varphi$$\n",
    "\\chi X\t:\t$$\\chi X$$\n",
    "\\psi \\Psi\t:\t$$\\psi \\Psi$$\n",
    "\\omega \\Omega\t:\t$$\\omega \\Omega$$"
   ]
  },
  {
   "cell_type": "markdown",
   "metadata": {},
   "source": [
    "## Example\n",
    "X-Bar ~ N(u, σ/sqrt(n)) : \n",
    "$$\\bar{X} \\sim N(\\mu, \\frac{\\sigma}{\\sqrt(n)})$$"
   ]
  },
  {
   "cell_type": "markdown",
   "metadata": {},
   "source": [
    "x=y+3  :\n",
    "$$\\begin{equation} x=y+3 \n",
    "\\end{equation}$$"
   ]
  },
  {
   "cell_type": "markdown",
   "metadata": {},
   "source": [
    "{n+1\\choose k} = {n\\choose k} + {n \\choose k-1} :\n",
    "$$\n",
    "{n+1\\choose k} = {n\\choose k} + {n \\choose k-1}\n",
    "$$"
   ]
  },
  {
   "cell_type": "markdown",
   "metadata": {},
   "source": [
    "$$\n",
    "|x| = \\left\\{ \\begin{array}{rl}\n",
    " -x &\\mbox{ if $x<0$} \\\\\n",
    "  x &\\mbox{ otherwise}\n",
    "       \\end{array} \\right.\n",
    "$$"
   ]
  },
  {
   "cell_type": "code",
   "execution_count": null,
   "metadata": {
    "collapsed": true
   },
   "outputs": [],
   "source": []
  }
 ],
 "metadata": {
  "kernelspec": {
   "display_name": "R",
   "language": "R",
   "name": "ir"
  },
  "language_info": {
   "codemirror_mode": "r",
   "file_extension": ".r",
   "mimetype": "text/x-r-source",
   "name": "R",
   "pygments_lexer": "r",
   "version": "3.1.3"
  }
 },
 "nbformat": 4,
 "nbformat_minor": 0
}
