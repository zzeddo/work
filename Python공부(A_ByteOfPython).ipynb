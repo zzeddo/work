{
 "cells": [
  {
   "cell_type": "markdown",
   "metadata": {},
   "source": [
    "A Byte Of Python 번역본을 보고 공부를 해보자\n",
    "인터넷을 통한 지식의 공유 정신을 통하여 오픈 소스, 오픈 콘텐즈와 오픈 교육이 활성화 될 수 있었다.\n",
    "삶에 있어 성공이라고 하는 것은 재능과 요행보다는 집중력과 참을성에 달려 있습니다.(Success in life is a matter not so much of talent and opportunity as of concentration and perseverance.-C.W.Wendte)\n",
    "파이썬이라는 이름의 유래는 파이쎤의 창시자 귀도 반 로섬(Guido van Rossum)이 BBC에서 방영되던 \"Monty Python's Flying Circus\"라는 TV 프로그램의 이름을 따서 지었습니다."
   ]
  },
  {
   "cell_type": "code",
   "execution_count": 8,
   "metadata": {
    "collapsed": false
   },
   "outputs": [
    {
     "name": "stdout",
     "output_type": "stream",
     "text": [
      "Helllo, World!\n"
     ]
    }
   ],
   "source": [
    "# 첫번째 python 프로그램\n",
    "print(\"Helllo, World!\")\n"
   ]
  },
  {
   "cell_type": "markdown",
   "metadata": {},
   "source": [
    "작성된 프로그램을 저장(예 : hello.py)하고 다시 수행하고 싶을 경우 아래와 같이 한다.(확장자를 반드시 py로 해야 한다.)\n",
    "$ python hello.py"
   ]
  },
  {
   "cell_type": "code",
   "execution_count": 13,
   "metadata": {
    "collapsed": false
   },
   "outputs": [
    {
     "name": "stdout",
     "output_type": "stream",
     "text": [
      "Help on built-in function format in module builtins:\n",
      "\n",
      "format(...)\n",
      "    format(value[, format_spec]) -> string\n",
      "    \n",
      "    Returns value.__format__(format_spec)\n",
      "    format_spec defaults to \"\"\n",
      "\n"
     ]
    }
   ],
   "source": [
    "# 파이썬의 함수나 명령에 대한 도움말이 필요할 경우 help를 사용한다.\n",
    "help(format)\n"
   ]
  },
  {
   "cell_type": "code",
   "execution_count": null,
   "metadata": {
    "collapsed": true
   },
   "outputs": [],
   "source": [
    "# format 함수를 통한 출력 형태의 변경\n",
    "print('{0:_^10}'.format(\"Hello\")+\"\\n\")\n",
    "# 숫자를 10지리 문자로 변환하기(99억까지 숫자 인덱스로 사용)\n",
    "'{0:010d}'.format(1)\n"
   ]
  },
  {
   "cell_type": "markdown",
   "metadata": {},
   "source": [
    "주석은 \"#\"을 통하여 작성한다.\n",
    "지금은 문제가 되지 않겠지만 6개월 후에 다시 소스를 보았을때 주석이 없다면 작성한 사람이라도 이해가 어려운 경우가 많다."
   ]
  },
  {
   "cell_type": "code",
   "execution_count": 55,
   "metadata": {
    "collapsed": false
   },
   "outputs": [],
   "source": [
    "# coding utf-8\n"
   ]
  },
  {
   "cell_type": "markdown",
   "metadata": {},
   "source": [
    "문자열을 표현하는 방법으로 작은 따옴표(')와 큰 따옴표(\") 둘다 사용이 가능하지만 What's your name?과 같이 내부에 작은 따움표가(') 있는 경우 큰 따움표(\") 해야 오류가 발생하지 않는다.\n",
    "반대의 경우 the \" is big quotation는 작은따음표(') 사용해야 오류가 발생하지 않는다.\n",
    "두개(small('), big(\"))가 같이 있는 경우는 (\"\"\") 혹은 (''') 사용한다.\n",
    "\n",
    "다른 방법은 Escape 문자(\\)을 사용하는 것도 가능하다\n",
    "긴문장을 연결시킬때도 Escape 문자(\\) 사용하면 편리하다.\n",
    "\n",
    "순 문자열(Raw Character)은 문자열에 포함된 이스케이프 문자를 처리하지 않고 있는 그대로를 출력하고 싶을때 사용합니다.(정규식에서 많이 활용)\n",
    "예) print(r\"줄바꿈 문자는 \\n\")"
   ]
  },
  {
   "cell_type": "code",
   "execution_count": 5,
   "metadata": {
    "collapsed": false
   },
   "outputs": [
    {
     "name": "stdout",
     "output_type": "stream",
     "text": [
      "What's your name?\n",
      "What's your name?\n",
      "the \" is big quotation\n",
      "It's very Important, diffence of small('), big(\") quotation\n",
      "It's very Important, diffence of small('), big(\") quotation\n",
      "soook is wife of zedo won is son of zedo\n",
      "줄바꿈 문자는 \\n\n"
     ]
    }
   ],
   "source": [
    "print(\"What's your name?\")\n",
    "print('What\\'s your name?') # Escape 문자 사용\n",
    "print('the \" is big quotation')\n",
    "print(\"\"\"It's very Important, diffence of small('), big(\") quotation\"\"\")\n",
    "print('''It's very Important, diffence of small('), big(\") quotation''')\n",
    "print(\"soook is \\\n",
    "wife of zedo \\\n",
    "won is son of zedo\")\n",
    "print(r\"줄바꿈 문자는 \\n\")\n"
   ]
  },
  {
   "cell_type": "markdown",
   "metadata": {},
   "source": [
    "문자열에 매개변수를 주어 출력하는 것을 문자열 포맷팅이라 합니다.\n",
    "문자열을 \"+\"을 통해 만들 수도 있으나 정수가 있는 경우 매번 String으로 변환해야 하고, 가독성이 떨이지므로 format을 반드시 활용한다."
   ]
  },
  {
   "cell_type": "code",
   "execution_count": 75,
   "metadata": {
    "collapsed": false
   },
   "outputs": [
    {
     "name": "stdout",
     "output_type": "stream",
     "text": [
      "Sook의 나이는 20살 입니다.\n",
      "왜 Sook은 python과 놀지 않나요?\n",
      "Sook의 나이는 20살 입니다.\n",
      "Sook의 나이는 20살 입니다.\n",
      "zedo은 python을 좋아합니다.\n"
     ]
    }
   ],
   "source": [
    "age=20\n",
    "name=\"Sook\"\n",
    "print(\"{0}의 나이는 {1}살 입니다.\".format(name, age))\n",
    "print(\"왜 {0}은 python과 놀지 않나요?\".format(name))\n",
    "# 아래와 같이 바꿀수도 있지만, 정수는 String 변환하고 가독성 떨어짐\n",
    "print(name+\"의 나이는 \"+str(age)+\"살 입니다.\")\n",
    "\n",
    "# 문자열 포맷팅 사용시 \"{숫자}\"에서  숫자는 생략 가능함\n",
    "print(\"{}의 나이는 {}살 입니다.\".format(name, age))\n",
    "# {숫자} 대신에 {변수} 대입이 가능합니다.\n",
    "print(\"{name}은 {what}을 좋아합니다.\".format(name=\"zedo\", what=\"python\"))\n"
   ]
  },
  {
   "cell_type": "markdown",
   "metadata": {
    "collapsed": true
   },
   "source": [
    "기본 데이터형은 정수(integer), 실수(Floating), 문자열(String)이며\n",
    "확장형으로 튜플(Tuple), 리스트(List), 사전(Dictory)을 가진다.\n",
    "블린(Boolean)형도 있으며 True, False 값을 가진다."
   ]
  },
  {
   "cell_type": "code",
   "execution_count": 2,
   "metadata": {
    "collapsed": false
   },
   "outputs": [
    {
     "name": "stdout",
     "output_type": "stream",
     "text": [
      "12345\n",
      "3.141592\n",
      "Hello, World!\n",
      "(1, 2, 3, 4, 5)\n",
      "['one', 'two', 'three', 'four']\n",
      "{1: 'one', 2: 'two', 3: 'three', 4: 'four'}\n"
     ]
    }
   ],
   "source": [
    "print(12345)  # 정수\n",
    "print(3.141592) # 실수\n",
    "print(\"Hello, World!\") # 문자열\n",
    "print((1,2,3,4,5)) # 튜플(내부 데이터 변경 불가)\n",
    "print([\"one\", \"two\", \"three\", \"four\"]) # 리스트\n",
    "print({1:\"one\", 2:\"two\", 3:\"three\", 4:\"four\"}) #사전\n"
   ]
  },
  {
   "cell_type": "markdown",
   "metadata": {
    "collapsed": true
   },
   "source": [
    "파이썬에서는 들여쓰기(Indentation)이 무지 중요하다.\n",
    "이것때문에 코딩 실수가 많이 발생한다.\n",
    "파이썬에서는 공식적으로 Tab을 사용하기 보다는 공백 4개 넣기를 추천한다."
   ]
  },
  {
   "cell_type": "code",
   "execution_count": 6,
   "metadata": {
    "collapsed": false
   },
   "outputs": [
    {
     "ename": "IndentationError",
     "evalue": "unexpected indent (<ipython-input-6-14f9455c5c5a>, line 2)",
     "output_type": "error",
     "traceback": [
      "\u001b[1;36m  File \u001b[1;32m\"<ipython-input-6-14f9455c5c5a>\"\u001b[1;36m, line \u001b[1;32m2\u001b[0m\n\u001b[1;33m    print(\"jae\")\u001b[0m\n\u001b[1;37m    ^\u001b[0m\n\u001b[1;31mIndentationError\u001b[0m\u001b[1;31m:\u001b[0m unexpected indent\n"
     ]
    }
   ],
   "source": [
    "print(\"park\")\n",
    " print(\"jae\")\n",
    "    "
   ]
  },
  {
   "cell_type": "markdown",
   "metadata": {},
   "source": [
    "제어문(Control Statement)을 공부하자"
   ]
  },
  {
   "cell_type": "code",
   "execution_count": 4,
   "metadata": {
    "collapsed": false
   },
   "outputs": [
    {
     "name": "stdout",
     "output_type": "stream",
     "text": [
      "자 내가 생각하는 숫자는 무엇일까요? : 32\n",
      "좀 더 작은 수를 넣어 보세요\n",
      "자 내가 생각하는 숫자는 무엇일까요? : 23\n",
      "축하합니다. 맞추었어요\n",
      "끝\n"
     ]
    }
   ],
   "source": [
    "number = 23\n",
    "running = True\n",
    "while running :\n",
    "    guess = int(input(\"자 내가 생각하는 숫자는 무엇일까요? : \"))\n",
    "    if guess == number :\n",
    "        print(\"축하합니다. 맞추었어요\")\n",
    "        running = False\n",
    "    elif guess < number :\n",
    "        print(\"좀 더 큰 수를 넣어 보세요\")        \n",
    "    else :\n",
    "        print(\"좀 더 작은 수를 넣어 보세요\")        \n",
    "print(\"끝\")    \n"
   ]
  },
  {
   "cell_type": "code",
   "execution_count": 10,
   "metadata": {
    "collapsed": false
   },
   "outputs": [
    {
     "name": "stdout",
     "output_type": "stream",
     "text": [
      "0\n",
      "1\n",
      "2\n",
      "3\n",
      "4\n",
      "The for loop is over\n"
     ]
    }
   ],
   "source": [
    "# For 루프 사용 예시\n",
    "for i in range(1,5) : \n",
    "    print(i)\n",
    "else : \n",
    "    print(\"The for loop is over\")\n",
    "    "
   ]
  },
  {
   "cell_type": "code",
   "execution_count": 11,
   "metadata": {
    "collapsed": false
   },
   "outputs": [
    {
     "name": "stdout",
     "output_type": "stream",
     "text": [
      "1\n",
      "2\n",
      "3\n",
      "4\n",
      "The for loop is over\n"
     ]
    }
   ],
   "source": [
    "# 위의 \"else :\" 구문이 없어도 된다.\n",
    "for i in range(1,5) : \n",
    "    print(i)\n",
    "print(\"The for loop is over\")\n"
   ]
  },
  {
   "cell_type": "code",
   "execution_count": 16,
   "metadata": {
    "collapsed": false
   },
   "outputs": [
    {
     "name": "stdout",
     "output_type": "stream",
     "text": [
      "1\n",
      "2\n",
      "1\n",
      "3\n"
     ]
    }
   ],
   "source": [
    "# range 함수를 사용하면 List를 반환한다.\n",
    "a=range(1,3)\n",
    "for i in a :\n",
    "    print(i)\n",
    "# range 함수에서 세번째 인수에 증감수를 넣을 수 있다.(기본 1)\n",
    "a=range(1,5,2)\n",
    "for i in a :\n",
    "    print(i)\n",
    "    "
   ]
  },
  {
   "cell_type": "markdown",
   "metadata": {},
   "source": [
    "Loop를 중지하기 위하여 break를 사용할 수 있고\n",
    "다음 반복으로 바로 넣어가지 위해 continue을 사용할 수도 있다."
   ]
  },
  {
   "cell_type": "code",
   "execution_count": 19,
   "metadata": {
    "collapsed": false
   },
   "outputs": [
    {
     "name": "stdout",
     "output_type": "stream",
     "text": [
      "Quit 입력하면 중단됩니다.a\n",
      "입력문자열 길이 : 1\n",
      "Quit 입력하면 중단됩니다.park jae do\n",
      "입력문자열 길이 : 11\n",
      "Quit 입력하면 중단됩니다.Quit\n",
      "끝\n"
     ]
    }
   ],
   "source": [
    "while True :\n",
    "    s = input(\"Quit 입력하면 중단됩니다.\")\n",
    "    if s == \"Quit\" :\n",
    "        break\n",
    "    print(\"입력문자열 길이 : {0}\".format(len(s)))\n",
    "print(\"끝\")\n"
   ]
  },
  {
   "cell_type": "code",
   "execution_count": 20,
   "metadata": {
    "collapsed": false
   },
   "outputs": [
    {
     "name": "stdout",
     "output_type": "stream",
     "text": [
      "Quit 입력하면 중단됩니다.sok\n",
      "입력문자열 길이 : 3\n",
      "Quit 입력하면 중단됩니다.Quit\n",
      "끝\n"
     ]
    }
   ],
   "source": [
    "while True :\n",
    "    s = input(\"Quit 입력하면 중단됩니다.\")\n",
    "    if s == \"Quit\" :\n",
    "        break\n",
    "    if len(s) < 3:\n",
    "        print(\"문자열이 작아요\")\n",
    "        continue\n",
    "    print(\"입력문자열 길이 : {0}\".format(len(s)))\n",
    "print(\"끝\")\n"
   ]
  },
  {
   "cell_type": "markdown",
   "metadata": {},
   "source": [
    "##이제 함수에 대하여 공부해 보자\n",
    "#### 프로그램에서 재사용 목적으로 사용되며 def로 정의한다"
   ]
  },
  {
   "cell_type": "code",
   "execution_count": 22,
   "metadata": {
    "collapsed": false
   },
   "outputs": [
    {
     "name": "stdout",
     "output_type": "stream",
     "text": [
      "hello, world\n"
     ]
    }
   ],
   "source": [
    "def say_hello() :\n",
    "    print(\"hello, world\")\n",
    "say_hello()\n"
   ]
  },
  {
   "cell_type": "markdown",
   "metadata": {},
   "source": [
    "#### 매개변수를 넘길 수 있도록 함수를 만들어 보자"
   ]
  },
  {
   "cell_type": "code",
   "execution_count": 25,
   "metadata": {
    "collapsed": false
   },
   "outputs": [
    {
     "name": "stdout",
     "output_type": "stream",
     "text": [
      "4 is maximum\n",
      "3, 3 is equal\n",
      "5 is maximum\n"
     ]
    }
   ],
   "source": [
    "def print_max(a,b) : \n",
    "    if a > b :\n",
    "        print(\"{0} is maximum\".format(a))\n",
    "    elif a==b :\n",
    "        print(\"{0}, {1} is equal\".format(a,b))\n",
    "    else :\n",
    "        print(\"{0} is maximum\".format(b))\n",
    "print_max(3,4)\n",
    "print_max(3,3)\n",
    "print_max(5,4)\n"
   ]
  },
  {
   "cell_type": "markdown",
   "metadata": {},
   "source": [
    "#### 전역변수를 사용하기 위해서는 global이란 키워드 사용한다."
   ]
  },
  {
   "cell_type": "code",
   "execution_count": 2,
   "metadata": {
    "collapsed": false
   },
   "outputs": [
    {
     "name": "stdout",
     "output_type": "stream",
     "text": [
      "x is 50\n",
      "x is 2\n",
      "x is 2\n"
     ]
    }
   ],
   "source": [
    "#  grobal 을 함수내에서 사용하는 것은 좋지 못하다.\n",
    "x=50\n",
    "def func() :\n",
    "    global x\n",
    "    print(\"x is {0}\".format(x))\n",
    "    x=2\n",
    "    print(\"x is {0}\".format(x))\n",
    "func()\n",
    "print(\"x is {0}\".format(x))\n"
   ]
  },
  {
   "cell_type": "markdown",
   "metadata": {},
   "source": [
    "#### 함수의 매개변수에 기본값을 지정 가능하다.\n",
    "#### 매개 변수 목록에서 마지막에 있는 매개 변수들에만 기본 인수값을 지정해 줄 수 있습니다\n",
    "#### def func(a, b=5) 정상 동작,  def func(a=5, b) 오류 발생"
   ]
  },
  {
   "cell_type": "code",
   "execution_count": 4,
   "metadata": {
    "collapsed": false
   },
   "outputs": [
    {
     "name": "stdout",
     "output_type": "stream",
     "text": [
      "Hello\n",
      "WorldWorldWorldWorldWorld\n"
     ]
    }
   ],
   "source": [
    "def say(message, times=1) :\n",
    "    print(message * times)\n",
    "say(\"Hello\")\n",
    "say(\"World\", 5)\n"
   ]
  },
  {
   "cell_type": "markdown",
   "metadata": {},
   "source": [
    "#### 키위드 인수(Keyword parameter)를 통하여 함수를 호출할때 값을 직접 지정 가능"
   ]
  },
  {
   "cell_type": "code",
   "execution_count": 6,
   "metadata": {
    "collapsed": false
   },
   "outputs": [
    {
     "name": "stdout",
     "output_type": "stream",
     "text": [
      "a is 3, b is 7, c is 10\n",
      "a is 25, b is 5, c is 24\n",
      "a is 100, b is 5, c is 50\n"
     ]
    }
   ],
   "source": [
    "def func(a, b=5, c=10) :\n",
    "    print(\"a is {0}, b is {1}, c is {2}\".format(a,b,c))\n",
    "func(3,7)\n",
    "func(25, c=24)\n",
    "func(c=50, a=100)\n"
   ]
  },
  {
   "cell_type": "markdown",
   "metadata": {},
   "source": [
    "#### VarArgs 매개변수를 통해 임의(Variable)의 갯수의 매개변수(Arguments)를 지정 가능함\n",
    "#### 전달된 매개 변수는 *numbers은 튜플로 **keyworks는 사전으로 전달됨"
   ]
  },
  {
   "cell_type": "code",
   "execution_count": 11,
   "metadata": {
    "collapsed": false
   },
   "outputs": [
    {
     "name": "stdout",
     "output_type": "stream",
     "text": [
      "1\n",
      "2\n",
      "3\n",
      "vegetable\n",
      "fruits\n",
      "156\n"
     ]
    }
   ],
   "source": [
    "def total(inital=0, *numbers, **keywords) :\n",
    "    count = inital\n",
    "    for n in numbers :\n",
    "        count += n\n",
    "        print(n)\n",
    "    for k in keywords :\n",
    "        count += keywords[k]\n",
    "        print(k)\n",
    "    return count\n",
    "print(total(0, 1, 2, 3, vegetable=50, fruits=100))\n"
   ]
  },
  {
   "cell_type": "markdown",
   "metadata": {},
   "source": [
    "#### 아무것도 하지 않는 함수를 사용하고 싶을때는 pass를 사용한다."
   ]
  },
  {
   "cell_type": "code",
   "execution_count": 12,
   "metadata": {
    "collapsed": true
   },
   "outputs": [],
   "source": [
    "def do_not_thing() :\n",
    "    pass\n",
    "do_not_thing()\n"
   ]
  },
  {
   "cell_type": "markdown",
   "metadata": {},
   "source": [
    "#### DocString은 설명(Documentation) 문자열(String)) 기능을 이야기 함\n",
    "#### 모듈과 클래스에서 사용 가능하며 첫째줄의 첫문자는 대문자로, 마지막 문자는 마침표로 끝나며, 두번째 줄은 비워 두고, 세번째 줄부터는 이것이 어떤 기능을 하는지에 대해 상세하게 작성함\n",
    "#### help() 함수에서 특정 모듈의 도움말이 DocString을 통하여 제공됨"
   ]
  },
  {
   "cell_type": "code",
   "execution_count": 14,
   "metadata": {
    "collapsed": false
   },
   "outputs": [
    {
     "name": "stdout",
     "output_type": "stream",
     "text": [
      "5 is maximum\n",
      "print_max(x, y)는 두 숫자 중에 끝 수를 출력함.\n",
      "    \n",
      "    두개의 숫자는 반드시 정수여야함.\n"
     ]
    }
   ],
   "source": [
    "def print_max(x, y) :\n",
    "    \"\"\"print_max(x, y)는 두 숫자 중에 끝 수를 출력함.\n",
    "    \n",
    "    두개의 숫자는 반드시 정수여야함.\"\"\"\n",
    "    x = int(x)\n",
    "    y = int(y)\n",
    "    if x > y :\n",
    "        print(\"{0} is maximum\".format(x))\n",
    "    else :\n",
    "        print(\"{0} is maximum\".format(y))\n",
    "print_max(3,5)\n",
    "print(print_max.__doc__)\n"
   ]
  },
  {
   "cell_type": "markdown",
   "metadata": {},
   "source": [
    "#### import 명령을 사용하여 이미 작성됨 모듈을 사용할 수 있음\n",
    "#### from import 명령을 사용하여 간단하게 사용 가능하지만 권장하지 않음"
   ]
  },
  {
   "cell_type": "code",
   "execution_count": 16,
   "metadata": {
    "collapsed": false
   },
   "outputs": [
    {
     "name": "stdout",
     "output_type": "stream",
     "text": [
      "C:\\Anaconda3\\lib\\site-packages\\IPython\\kernel\\__main__.py\n",
      "-f\n",
      "C:\\Users\\zedo\\.ipython\\profile_default\\security\\kernel-7a4026dd-ce16-40e7-8ff4-cf5bac45311e.json\n",
      "--profile-dir\n",
      "C:\\Users\\zedo\\.ipython\\profile_default\n",
      "\n",
      "\n",
      "The PYTHONPATH is ['', 'C:\\\\Work', 'C:\\\\Anaconda3\\\\python34.zip', 'C:\\\\Anaconda3\\\\DLLs', 'C:\\\\Anaconda3\\\\lib', 'C:\\\\Anaconda3', 'C:\\\\Anaconda3\\\\lib\\\\site-packages', 'C:\\\\Anaconda3\\\\lib\\\\site-packages\\\\Sphinx-1.3.1-py3.4.egg', 'C:\\\\Anaconda3\\\\lib\\\\site-packages\\\\cryptography-0.9.1-py3.4-win32.egg', 'C:\\\\Anaconda3\\\\lib\\\\site-packages\\\\win32', 'C:\\\\Anaconda3\\\\lib\\\\site-packages\\\\win32\\\\lib', 'C:\\\\Anaconda3\\\\lib\\\\site-packages\\\\Pythonwin', 'C:\\\\Anaconda3\\\\lib\\\\site-packages\\\\setuptools-18.0.1-py3.4.egg', 'C:\\\\Anaconda3\\\\lib\\\\site-packages\\\\IPython\\\\extensions']\n",
      "\n"
     ]
    }
   ],
   "source": [
    "import sys\n",
    "for i in sys.argv :\n",
    "    print(i)\n",
    "print(\"\\n\\nThe PYTHONPATH is {0}\\n\".format(sys.path))\n"
   ]
  },
  {
   "cell_type": "code",
   "execution_count": 40,
   "metadata": {
    "collapsed": false
   },
   "outputs": [
    {
     "name": "stdout",
     "output_type": "stream",
     "text": [
      "3.1622776601683795\n"
     ]
    }
   ],
   "source": [
    "# 권장하지는 않지만 사용 가능함\n",
    "from math import sqrt\n",
    "print(sqrt(10))\n"
   ]
  },
  {
   "cell_type": "code",
   "execution_count": 21,
   "metadata": {
    "collapsed": false
   },
   "outputs": [
    {
     "data": {
      "image/png": "[encoded data removed]",
      "text/plain": [
       "<matplotlib.figure.Figure at 0x50e2bb0>"
      ]
     },
     "metadata": {},
     "output_type": "display_data"
    }
   ],
   "source": [
    "%matplotlib inline\n",
    "import pylab as pl\n",
    "import numpy as np\n",
    "# -3.14159와 3.14159 사이에 256개의 숫자를 발생시켜, Sine, Cosine 값을 구하고 \n",
    "# 그래프로 보여줌\n",
    "X = np.linspace(-np.pi, np.pi, 256, endpoint=True)\n",
    "C, S = np.cos(X), np.sin(X)\n",
    "\n",
    "pl.plot(X, C)\n",
    "pl.plot(X, S)\n",
    "\n",
    "pl.show()\n"
   ]
  },
  {
   "cell_type": "code",
   "execution_count": 22,
   "metadata": {
    "collapsed": false
   },
   "outputs": [
    {
     "data": {
      "image/png": "[encoded data removed]",
      "text/plain": [
       "<matplotlib.figure.Figure at 0x50e80d0>"
      ]
     },
     "metadata": {},
     "output_type": "display_data"
    }
   ],
   "source": [
    "%matplotlib inline\n",
    "import numpy as np\n",
    "import matplotlib.pyplot as plt\n",
    "# 복소수 자표계를 표현함\n",
    "\n",
    "limit=4\n",
    "s=[2+2j, 3+2j, 1.75+1j, 2+1j, 2.25+1j, 2.5+1j, 2.75+1j, 3+1j, 3.25+1j]\n",
    "for x in range(len(s)) :\n",
    "\tplt.plot(s[x].real, s[x].imag, 'ro-', label='complex')\n",
    "\t##  plt.plot([0,s[x].real], [0, s[x].imag])\n",
    "plt.xlim(-limit,limit)\n",
    "plt.ylim(-limit,limit)\n",
    "plt.ylabel('Imaginary')\n",
    "plt.xlabel('Real')\t\n",
    "plt.grid(True)\n",
    "plt.show()\n"
   ]
  },
  {
   "cell_type": "code",
   "execution_count": 23,
   "metadata": {
    "collapsed": false
   },
   "outputs": [
    {
     "data": {
      "text/plain": [
       "{0: 'Ask',\n",
       " 1: 'not',\n",
       " 2: 'what',\n",
       " 3: 'you',\n",
       " 4: 'can',\n",
       " 5: 'do',\n",
       " 6: 'for',\n",
       " 7: 'your',\n",
       " 8: 'country'}"
      ]
     },
     "execution_count": 23,
     "metadata": {},
     "output_type": "execute_result"
    }
   ],
   "source": [
    "# 문자열을 공백을 기준으로 잘라서 list로 만들고 다시 enumerate로 변환\n",
    "def makeInverseIndex(strlist) :\n",
    "    return {x:y for (x,y) in enumerate(list(strlist.split()))}\n",
    "makeInverseIndex(\"Ask not what you can do for your country\")\n"
   ]
  },
  {
   "cell_type": "code",
   "execution_count": 27,
   "metadata": {
    "collapsed": false
   },
   "outputs": [
    {
     "data": {
      "text/plain": [
       "['Ask', 'not', 'what', 'you', 'can', 'do', 'for', 'your', 'country']"
      ]
     },
     "execution_count": 27,
     "metadata": {},
     "output_type": "execute_result"
    }
   ],
   "source": [
    "list(\"Ask not what you can do for your country\".split())\n"
   ]
  },
  {
   "cell_type": "code",
   "execution_count": 32,
   "metadata": {
    "collapsed": false
   },
   "outputs": [
    {
     "data": {
      "image/png": "[encoded data removed]",
      "text/plain": [
       "<matplotlib.figure.Figure at 0x5d47350>"
      ]
     },
     "metadata": {},
     "output_type": "display_data"
    }
   ],
   "source": [
    "%matplotlib inline\n",
    "import matplotlib.pyplot as plt\n",
    "import numpy as np\n",
    "import pylab as plt\n",
    "import csv as csv\n",
    "import pandas as pd\n",
    "# R의 dprep 팩키지의 autompg 데이터셋을 활용한다.\n",
    "#  write.table(autompg, \"c:/work/autompg.csv\", sep=\",\",col.names = TRUE, row.names=FALSE)\n",
    "\n",
    "readdata = csv.reader(open('C:/Work/autompg.csv'))\n",
    "data=[]\n",
    "for row in readdata :\n",
    "    data.append(row)\n",
    "Header=data[0]\n",
    "data.pop(0)\n",
    "\n",
    "cars = pd.DataFrame(data, columns=Header)\n",
    "plt.plot(cars.mpg, cars.displacement, 'ro', label='cars')\n",
    "plt.ylabel('displ')\n",
    "plt.xlabel('mpg')\n",
    "plt.show()\n"
   ]
  },
  {
   "cell_type": "code",
   "execution_count": 37,
   "metadata": {
    "collapsed": false
   },
   "outputs": [
    {
     "name": "stdout",
     "output_type": "stream",
     "text": [
      "['mpg', 'cylinders', 'displacement', 'horsepower', 'weight', 'acceleration', 'modelyear', 'maker']\n",
      "['31', '4', '119', '82', '2720', '19.4', '82', '1']\n"
     ]
    }
   ],
   "source": [
    "# CSV file reader\n",
    "import csv\n",
    "\n",
    "cars=[]\n",
    "f = open('c:/work/autompg.csv', 'r')\n",
    "csvReader  = csv.reader(f)\n",
    "for row in csvReader :\n",
    "   cars.append(row)\n",
    "# header와 데이터 출력하기\n",
    "print(cars[0])\n",
    "print(cars[len(cars)-1])\n",
    "f.close()\n"
   ]
  },
  {
   "cell_type": "markdown",
   "metadata": {},
   "source": [
    "### 파이션에는 4개의 자료 구조가 있음\n",
    "#### 리스트(List []), 튜플(Tuple ()), 사전(Dictionary {}), 집합(Set)"
   ]
  },
  {
   "cell_type": "code",
   "execution_count": 44,
   "metadata": {
    "collapsed": false
   },
   "outputs": [
    {
     "name": "stdout",
     "output_type": "stream",
     "text": [
      "I have 4 items to purchase.\n",
      "These items are:\n",
      "apple\n",
      "mango\n",
      "carrot\n",
      "banana\n",
      "\n",
      "I also have to buy rice.\n",
      "My shopping list is now ['apple', 'mango', 'carrot', 'banana', 'rice']\n",
      "I will sort my list now\n",
      "Sorted shopping list is ['apple', 'banana', 'carrot', 'mango', 'rice']\n",
      "The first item I will buy is apple\n",
      "I bought the apple\n",
      "My shopping list is now ['banana', 'carrot', 'mango', 'rice']\n"
     ]
    }
   ],
   "source": [
    "# This is my shopping list\n",
    "shoplist = ['apple', 'mango', 'carrot', 'banana']\n",
    "print('I have', len(shoplist), 'items to purchase.')\n",
    "print('These items are:')\n",
    "for item in shoplist:\n",
    "    print(item)\n",
    "print('\\nI also have to buy rice.')\n",
    "shoplist.append('rice')\n",
    "print('My shopping list is now', shoplist)\n",
    "print('I will sort my list now')\n",
    "shoplist.sort()\n",
    "print('Sorted shopping list is', shoplist)\n",
    "print('The first item I will buy is', shoplist[0])\n",
    "olditem = shoplist[0]\n",
    "del shoplist[0]\n",
    "print('I bought the', olditem)\n",
    "print('My shopping list is now', shoplist)\n"
   ]
  },
  {
   "cell_type": "code",
   "execution_count": 49,
   "metadata": {
    "collapsed": false
   },
   "outputs": [
    {
     "name": "stdout",
     "output_type": "stream",
     "text": [
      "Number of animals in the zoo is 3\n",
      "('monkey', 'camel', ('python', 'elephant', 'penguin'))\n",
      "Number of cages in the new zoo is 3\n",
      "All animals in new zoo are ('monkey', 'camel', ('python', 'elephant', 'penguin'))\n",
      "Animals brought from old zoo are ('python', 'elephant', 'penguin')\n",
      "Last animal brought from old zoo is penguin\n",
      "Number of animals in the new zoo is 5\n"
     ]
    }
   ],
   "source": [
    "# 튜플의 예제\n",
    "zoo = ('python', 'elephant', 'penguin')\n",
    "print('Number of animals in the zoo is', len(zoo))\n",
    "new_zoo =('monkey', 'camel', zoo)\n",
    "print(new_zoo)\n",
    "print('Number of cages in the new zoo is', len(new_zoo))\n",
    "print('All animals in new zoo are', new_zoo)\n",
    "print('Animals brought from old zoo are', new_zoo[2])\n",
    "print('Last animal brought from old zoo is', new_zoo[2][2])\n",
    "print('Number of animals in the new zoo is', \\\n",
    "    len(new_zoo)-1+len(new_zoo[2]))\n"
   ]
  },
  {
   "cell_type": "code",
   "execution_count": 51,
   "metadata": {
    "collapsed": false
   },
   "outputs": [
    {
     "name": "stdout",
     "output_type": "stream",
     "text": [
      "Swaroop's address is swaroop@swaroopch.com\n",
      "\n",
      "There are 3 contacts in the address-book\n",
      "\n",
      "Contact Larry at larry@wall.org\n",
      "Contact Matsumoto at matz@ruby-lang.org\n",
      "Contact Swaroop at swaroop@swaroopch.com\n",
      "\n",
      "Guido's address is guido@python.org\n"
     ]
    }
   ],
   "source": [
    "# List 예제\n",
    "ab = {  'Swaroop'   : 'swaroop@swaroopch.com',\n",
    "        'Larry'     : 'larry@wall.org',\n",
    "        'Matsumoto' : 'matz@ruby-lang.org',\n",
    "        'Spammer'   : 'spammer@hotmail.com'\n",
    "    }\n",
    "print(\"Swaroop's address is\", ab['Swaroop'])\n",
    "# Deleting a key-value pair\n",
    "del ab['Spammer']\n",
    "print('\\nThere are {} contacts in the address-book\\n'.format(len(ab)))\n",
    "for name, address in ab.items():\n",
    "    print('Contact {} at {}'.format(name, address))\n",
    "# Adding a key-value pair\n",
    "ab['Guido'] = 'guido@python.org'\n",
    "if 'Guido' in ab:\n",
    "    print(\"\\nGuido's address is\", ab['Guido'])\n",
    "    "
   ]
  },
  {
   "cell_type": "markdown",
   "metadata": {},
   "source": [
    "### 열거형을 통해 리스트, 튜플, 문자열에서 인덱싱 연상을 수행한다."
   ]
  },
  {
   "cell_type": "code",
   "execution_count": 60,
   "metadata": {
    "collapsed": false
   },
   "outputs": [
    {
     "name": "stdout",
     "output_type": "stream",
     "text": [
      "Item 0 is ppk\n",
      "Item -1 is m203\n",
      "Item -2 is m16\n",
      "Item 1 to 3 is  ['k-2', 'walther']\n",
      "Item 1 to end is  ['k-2', 'walther', 'm16', 'm203']\n",
      "Item 1 to -1 is  ['k-2', 'walther', 'm16']\n",
      "Item start to end is  ['ppk', 'k-2', 'walther', 'm16', 'm203']\n"
     ]
    }
   ],
   "source": [
    "shoplist=[\"ppk\", \"k-2\", \"walther\", \"m16\", \"m203\"]\n",
    "print(\"Item 0 is {0}\".format(shoplist[0]))\n",
    "print(\"Item -1 is {0}\".format(shoplist[-1])) # 마지막 향목을 가져옴\n",
    "print(\"Item -2 is {0}\".format(shoplist[-2])) # 마지막 항목 앞의 것을 가져옴\n",
    "# 리스트를 구분하기(Slice(:))\n",
    "print(\"Item 1 to 3 is \", shoplist[1:3])\n",
    "print(\"Item 1 to end is \", shoplist[1:])\n",
    "print(\"Item 1 to -1 is \", shoplist[1:-1])\n",
    "print(\"Item start to end is \", shoplist[:])\n"
   ]
  },
  {
   "cell_type": "markdown",
   "metadata": {},
   "source": [
    "#### 슬라이스(:) 연산에 스템(Step)을 넣을 수 있음(기본값 1)"
   ]
  },
  {
   "cell_type": "code",
   "execution_count": 64,
   "metadata": {
    "collapsed": false
   },
   "outputs": [
    {
     "name": "stdout",
     "output_type": "stream",
     "text": [
      "Item start to end(step 1) is  ['ppk', 'k-2', 'walther', 'm16', 'm203']\n",
      "Item start to end(step 2) is  ['ppk', 'walther', 'm203']\n",
      "Item start to end(step -1(Reverse)) is  ['m203', 'm16', 'walther', 'k-2', 'ppk']\n"
     ]
    }
   ],
   "source": [
    "shoplist=[\"ppk\", \"k-2\", \"walther\", \"m16\", \"m203\"]\n",
    "print(\"Item start to end(step 1) is \", shoplist[::1])\n",
    "print(\"Item start to end(step 2) is \", shoplist[::2])\n",
    "print(\"Item start to end(step -1(Reverse)) is \", shoplist[::-1])\n"
   ]
  },
  {
   "cell_type": "markdown",
   "metadata": {},
   "source": [
    "#### 집합은 set() 함수를 통해 구현하며 값은 중복되지 않는다."
   ]
  },
  {
   "cell_type": "code",
   "execution_count": 70,
   "metadata": {
    "collapsed": false
   },
   "outputs": [
    {
     "name": "stdout",
     "output_type": "stream",
     "text": [
      "shoping List is  {'k-2', 'walther', 'ppk', 'm16', 'm203'}\n",
      "sook shoping List is  {'m203', 'ppk', 'k201', 'k-2', 'walther', 'm16'}\n",
      "the zedo & sook same things are  {'m203', 'k-2', 'walther', 'm16'}\n",
      "the zedo & sook all things are  {'m203', 'ppk', 'k201', 'k-2', 'walther', 'm16'}\n"
     ]
    }
   ],
   "source": [
    "shoplist=set([\"ppk\", \"k-2\", \"walther\", \"m16\", \"m203\", \"m16\"])\n",
    "print(\"shoping List is \", shoplist) # 중복 되지 않는다.\n",
    "sooklist = shoplist.copy()\n",
    "sooklist.add(\"k201\")\n",
    "print(\"sook shoping List is \", sooklist) \n",
    "sooklist.remove(\"ppk\")\n",
    "print(\"the zedo & sook same things are \", shoplist & sooklist) #  교집함\n",
    "print(\"the zedo & sook all things are \", shoplist | sooklist) # 합집함\n"
   ]
  },
  {
   "cell_type": "markdown",
   "metadata": {},
   "source": [
    "### 참조(Reference)\n",
    "#### 리스트(혹은 튜플, 집합) 변수를 할당할때 실제 객체가 변수에 할당되는 것이 아니라 참조가 할당됨 즉 주소값이 복사되어 있는 것임\n",
    "#### 기본형(정수, 부동소수점, 문자열)은 해당 되지 않음"
   ]
  },
  {
   "cell_type": "code",
   "execution_count": 76,
   "metadata": {
    "collapsed": false
   },
   "outputs": [
    {
     "name": "stdout",
     "output_type": "stream",
     "text": [
      "['k-2', 'walther', 'm16', 'm203']\n",
      "['k-2', 'walther', 'm16', 'm203']\n"
     ]
    }
   ],
   "source": [
    "shoplist=[\"ppk\", \"k-2\", \"walther\", \"m16\", \"m203\"]\n",
    "mylist = shoplist\n",
    "del mylist[0]\n",
    "print(shoplist)\n",
    "print(mylist)\n"
   ]
  },
  {
   "cell_type": "code",
   "execution_count": 77,
   "metadata": {
    "collapsed": false,
    "scrolled": true
   },
   "outputs": [
    {
     "name": "stdout",
     "output_type": "stream",
     "text": [
      "['ppk', 'k-2', 'walther', 'm16', 'm203']\n",
      "['k-2', 'walther', 'm16', 'm203']\n"
     ]
    }
   ],
   "source": [
    "# 완전한 복사를 하기 위해서는 슬라이스 연산자(:) 사용 필요함\n",
    "shoplist=[\"ppk\", \"k-2\", \"walther\", \"m16\", \"m203\"]\n",
    "mylist = shoplist[:]\n",
    "del mylist[0]\n",
    "print(shoplist)\n",
    "print(mylist)\n"
   ]
  },
  {
   "cell_type": "markdown",
   "metadata": {},
   "source": [
    "#### 문자열 연산 예제"
   ]
  },
  {
   "cell_type": "code",
   "execution_count": 79,
   "metadata": {
    "collapsed": false
   },
   "outputs": [
    {
     "name": "stdout",
     "output_type": "stream",
     "text": [
      "Yes, the string starts with \"Swa\"\n",
      "Yes, it contains the string \"a\"\n",
      "Yes, it contains the string \"war\"\n",
      "Brazil_*_Russia_*_India_*_China\n"
     ]
    }
   ],
   "source": [
    "name = 'Swaroop'\n",
    "if name.startswith('Swa'):\n",
    "    print('Yes, the string starts with \"Swa\"')\n",
    "if 'a' in name:\n",
    "    print('Yes, it contains the string \"a\"')\n",
    "if name.find('war') != -1:\n",
    "    print('Yes, it contains the string \"war\"')\n",
    "delimiter = '_*_'\n",
    "mylist = ['Brazil', 'Russia', 'India', 'China']\n",
    "print(delimiter.join(mylist))\n"
   ]
  },
  {
   "cell_type": "code",
   "execution_count": null,
   "metadata": {
    "collapsed": true
   },
   "outputs": [],
   "source": []
  }
 ],
 "metadata": {
  "kernelspec": {
   "display_name": "Python 3",
   "language": "python",
   "name": "python3"
  },
  "language_info": {
   "codemirror_mode": {
    "name": "ipython",
    "version": 3
   },
   "file_extension": ".py",
   "mimetype": "text/x-python",
   "name": "python",
   "nbconvert_exporter": "python",
   "pygments_lexer": "ipython3",
   "version": "3.4.3"
  }
 },
 "nbformat": 4,
 "nbformat_minor": 0
}
