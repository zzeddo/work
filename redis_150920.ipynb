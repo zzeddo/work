{
 "cells": [
  {
   "cell_type": "code",
   "execution_count": 1,
   "metadata": {
    "collapsed": false
   },
   "outputs": [
    {
     "name": "stdout",
     "output_type": "stream",
     "text": [
      "{b'product_28': b'3', b'user': b'james', b'product_372': b'2'}\n",
      "{b'product_160': b'5', b'product_201': b'7', b'product_15': b'1', b'user': b'chris'}\n",
      "{b'product_28': b'3', b'product_372': b'3', b'user': b'zedo'}\n"
     ]
    }
   ],
   "source": [
    "import redis\n",
    "r = redis.Redis(host='localhost', port=6379, db=0) \n",
    "# Hash\n",
    "r.hset(\"cart_1\", \"user\", \"james\")\n",
    "r.hset(\"cart_1\", \"product_28\", \"1\")\n",
    "r.hset(\"cart_1\", \"product_372\", \"2\")\n",
    "r.hincrby(\"cart_1\", \"product_28\", \"2\")\n",
    "\n",
    "r.hset(\"cart_2\", \"user\", \"chris\")\n",
    "r.hset(\"cart_2\", \"product_15\", \"1\")\n",
    "r.hset(\"cart_2\", \"product_160\", \"5\")\n",
    "r.hset(\"cart_2\", \"product_201\", \"7\")\n",
    "print(r.hgetall(\"cart_1\"))\n",
    "print(r.hgetall(\"cart_2\"))\n",
    "\n",
    "r.hmset(\"cart_3\", {\"user\":\"zedo\", \"product_28\":\"3\", \"product_372\":\"3\"})\n",
    "print(r.hgetall(\"cart_3\"))"
   ]
  },
  {
   "cell_type": "code",
   "execution_count": 15,
   "metadata": {
    "collapsed": false
   },
   "outputs": [
    {
     "name": "stdout",
     "output_type": "stream",
     "text": [
      "[b\"{'TRANSACTION_INFO': {'SERIAL_NO': '201509121703010442', 'USER_ID': '617836'}, 'FACTORY_CODE': 'P7', 'CST_ID': 'AST001', 'SHOP_CODE': 'TFT', 'LOT_ID': 'P7T003F03'}\", b\"{'TRANSACTION_INFO': {'SERIAL_NO': '201509121703010342', 'USER_ID': '617836'}, 'FACTORY_CODE': 'P7', 'CST_ID': 'AST001', 'SHOP_CODE': 'TFT', 'LOT_ID': 'P7T003F01'}\", b\"{'TRANSACTION_INFO': {'SERIAL_NO': '201509121703010302', 'USER_ID': '617836'}, 'FACTORY_CODE': 'P7', 'CST_ID': 'AST001', 'SHOP_CODE': 'TFT', 'LOT_ID': 'P7T003F00'}\"]\n"
     ]
    },
    {
     "data": {
      "text/plain": [
       "1"
      ]
     },
     "execution_count": 15,
     "metadata": {},
     "output_type": "execute_result"
    }
   ],
   "source": [
    "# Using JSON Format\n",
    "import json\n",
    "import redis\n",
    "import codecs\n",
    "\n",
    "r = redis.StrictRedis(host='localhost', port=6379, db=0)\n",
    "\n",
    "txn1= {\n",
    "        \"FACTORY_CODE\" : \"P7\",\n",
    "        \"SHOP_CODE\" : \"TFT\",\n",
    "        \"LOT_ID\": \"P7T003F00\",\n",
    "        \"CST_ID\": \"AST001\",\n",
    "        \"TRANSACTION_INFO\": {\n",
    "            \"SERIAL_NO\": \"201509121703010302\",\n",
    "            \"USER_ID\":\"617836\"\n",
    "        }\n",
    "    }\n",
    "txn2 = {\n",
    "        \"FACTORY_CODE\" : \"P7\",\n",
    "        \"SHOP_CODE\" : \"TFT\",\n",
    "        \"LOT_ID\": \"P7T003F01\",\n",
    "        \"CST_ID\": \"AST001\",\n",
    "        \"TRANSACTION_INFO\": {\n",
    "            \"SERIAL_NO\": \"201509121703010342\",\n",
    "            \"USER_ID\":\"617836\"\n",
    "        }\n",
    "    }\n",
    "txn3 = {\n",
    "        \"FACTORY_CODE\" : \"P7\",\n",
    "        \"SHOP_CODE\" : \"TFT\",\n",
    "        \"LOT_ID\": \"P7T003F03\",\n",
    "        \"CST_ID\": \"AST001\",\n",
    "        \"TRANSACTION_INFO\": {\n",
    "            \"SERIAL_NO\": \"201509121703010442\",\n",
    "            \"USER_ID\":\"617836\"\n",
    "        }\n",
    "    }\n",
    "\n",
    "r.set('v1', json.dumps(txn1))\n",
    "unpacked_txn = json.loads(r.get('v1').decode('utf-8-sig'))\n",
    "r.lpush('v', unpacked_txn)\n",
    "\n",
    "r.set('v2', json.dumps(txn2))\n",
    "unpacked_txn = json.loads(r.get('v2').decode('utf-8-sig'))\n",
    "r.lpush('v', unpacked_txn)\n",
    "\n",
    "r.set('v3', json.dumps(txn3))\n",
    "unpacked_txn = json.loads(r.get('v3').decode('utf-8-sig'))\n",
    "r.lpush('v', unpacked_txn)\n",
    "#print(r.llen(\"v\"))\n",
    "print(r.lrange(\"v\",0, r.llen(\"v\")-1))\n",
    "r.delete('v')"
   ]
  },
  {
   "cell_type": "code",
   "execution_count": 20,
   "metadata": {
    "collapsed": false
   },
   "outputs": [
    {
     "name": "stdout",
     "output_type": "stream",
     "text": [
      "{b'TRANSACTION_INFO': b'{\"SERIAL_NO\": \"201509121703010302\", \"USER_ID\": \"617836\"}', b'LOT_ID': b'\"P7T003F00\"', b'CST_ID': b'\"AST001\"', b'SHOP_CODE': b'\"TFT\"', b'FACTORY_CODE': b'\"P7\"'}\n",
      "{b'TRANSACTION_INFO': b'{\"SERIAL_NO\": \"201509121703010342\", \"USER_ID\": \"617836\"}', b'LOT_ID': b'\"P7T003F01\"', b'CST_ID': b'\"AST001\"', b'SHOP_CODE': b'\"TFT\"', b'FACTORY_CODE': b'\"P7\"'}\n",
      "{b'TRANSACTION_INFO': b'{\"SERIAL_NO\": \"201509121703010442\", \"USER_ID\": \"617836\"}', b'LOT_ID': b'\"P7T003F03\"', b'CST_ID': b'\"AST001\"', b'SHOP_CODE': b'\"TFT\"', b'FACTORY_CODE': b'\"P7\"'}\n"
     ]
    }
   ],
   "source": [
    "# Using JSON Format\n",
    "import json\n",
    "import redis\n",
    "import codecs\n",
    "\n",
    "r = redis.StrictRedis(host='localhost', port=6379, db=0)\n",
    "\n",
    "txn1= {\n",
    "        \"FACTORY_CODE\" : \"P7\",\n",
    "        \"SHOP_CODE\" : \"TFT\",\n",
    "        \"LOT_ID\": \"P7T003F00\",\n",
    "        \"CST_ID\": \"AST001\",\n",
    "        \"TRANSACTION_INFO\": {\n",
    "            \"SERIAL_NO\": \"201509121703010302\",\n",
    "            \"USER_ID\":\"617836\"\n",
    "        }\n",
    "    }\n",
    "txn2 = {\n",
    "        \"FACTORY_CODE\" : \"P7\",\n",
    "        \"SHOP_CODE\" : \"TFT\",\n",
    "        \"LOT_ID\": \"P7T003F01\",\n",
    "        \"CST_ID\": \"AST001\",\n",
    "        \"TRANSACTION_INFO\": {\n",
    "            \"SERIAL_NO\": \"201509121703010342\",\n",
    "            \"USER_ID\":\"617836\"\n",
    "        }\n",
    "    }\n",
    "txn3 = {\n",
    "        \"FACTORY_CODE\" : \"P7\",\n",
    "        \"SHOP_CODE\" : \"TFT\",\n",
    "        \"LOT_ID\": \"P7T003F03\",\n",
    "        \"CST_ID\": \"AST001\",\n",
    "        \"TRANSACTION_INFO\": {\n",
    "            \"SERIAL_NO\": \"201509121703010442\",\n",
    "            \"USER_ID\":\"617836\"\n",
    "        }\n",
    "    }\n",
    "r.hmset(\"v1\",{key:json.dumps(txn1[key]) for key in txn1})\n",
    "r.hmset(\"v2\",{key:json.dumps(txn2[key]) for key in txn2})\n",
    "r.hmset(\"v3\",{key:json.dumps(txn3[key]) for key in txn3})\n",
    "print(r.hgetall(\"v1\"))\n",
    "print(r.hgetall(\"v2\"))      \n",
    "print(r.hgetall(\"v3\"))      "
   ]
  },
  {
   "cell_type": "code",
   "execution_count": null,
   "metadata": {
    "collapsed": true
   },
   "outputs": [],
   "source": []
  }
 ],
 "metadata": {
  "kernelspec": {
   "display_name": "Python 3",
   "language": "python",
   "name": "python3"
  },
  "language_info": {
   "codemirror_mode": {
    "name": "ipython",
    "version": 3
   },
   "file_extension": ".py",
   "mimetype": "text/x-python",
   "name": "python",
   "nbconvert_exporter": "python",
   "pygments_lexer": "ipython3",
   "version": "3.4.3"
  }
 },
 "nbformat": 4,
 "nbformat_minor": 0
}
